{
 "cells": [
  {
   "cell_type": "code",
   "execution_count": 14,
   "metadata": {},
   "outputs": [],
   "source": [
    "from google.cloud import bigquery\n",
    "client = bigquery.Client(project=\"umt-msba\")\n",
    "import pandas as pd"
   ]
  },
  {
   "cell_type": "markdown",
   "metadata": {},
   "source": [
    "## Table 1"
   ]
  },
  {
   "cell_type": "code",
   "execution_count": 19,
   "metadata": {},
   "outputs": [
    {
     "name": "stdout",
     "output_type": "stream",
     "text": [
      "    sale_date  sale_hour  total_sales  num_transactions  total_items\n",
      "0  2010-01-01          9       717.50                18          175\n",
      "1  2010-01-01         10      2665.77                55          757\n",
      "2  2010-01-01         11      2824.45                65          778\n",
      "3  2010-01-01         12      2523.37                75          773\n",
      "4  2010-01-01         13      3789.56               104         1091\n"
     ]
    }
   ],
   "source": [
    "query = \"\"\"\n",
    " SELECT \n",
    "    EXTRACT(DATE FROM datetime) AS sale_date,  -- Extract the sale date\n",
    "    EXTRACT(HOUR FROM datetime) AS sale_hour,  -- Extract the sale hour\n",
    "    ROUND(SUM(total), 2) AS total_sales,       -- Calculate total sales\n",
    "    COUNT(DISTINCT CONCAT(\n",
    "        CAST(EXTRACT(DATE FROM datetime) AS STRING),\n",
    "        CAST(register_no AS STRING),\n",
    "        CAST(emp_no AS STRING),\n",
    "        CAST(trans_no AS STRING)\n",
    "    )) AS num_transactions,                    -- Count distinct transactions\n",
    "    SUM(\n",
    "        CASE\n",
    "            WHEN trans_status IN ('V', 'R') THEN -1\n",
    "            ELSE 1\n",
    "        END\n",
    "    ) AS total_items                           -- Calculate total items accounting for returns/voids\n",
    "FROM `umt-msba.wedge_transactions.transArchive*` AS trans\n",
    "JOIN `umt-msba.wedge_transactions.department_lookup` AS depts\n",
    "    ON trans.department = depts.department\n",
    "WHERE trans.department NOT IN (0, 15)           -- Exclude departments 0 and 15\n",
    "  AND card_no != 3                              -- Exclude non-owner transactions\n",
    "  AND (trans_status IS NULL\n",
    "      OR trans_status IN ('V', 'R', '', ' '))   -- Include only the specified trans_status values\n",
    "GROUP BY sale_date, sale_hour                   -- Group by date and hour\n",
    "ORDER BY sale_date, sale_hour;                  -- Order by date and hour\n",
    "\"\"\"\n",
    "\n",
    "query_job_1 = client.query(query)\n",
    "\n",
    "df_1 = query_job_1.to_dataframe()\n",
    "\n",
    "print(df_1.head())\n"
   ]
  },
  {
   "cell_type": "markdown",
   "metadata": {},
   "source": [
    "## Table 2"
   ]
  },
  {
   "cell_type": "code",
   "execution_count": 20,
   "metadata": {},
   "outputs": [
    {
     "name": "stdout",
     "output_type": "stream",
     "text": [
      "   card_no  sale_year  sale_month  total_sales  num_transactions  total_items\n",
      "0  10000.0       2010          10        65.87                 4           21\n",
      "1  10000.0       2010          11        53.12                 2           20\n",
      "2  10000.0       2010          12        17.34                 1            6\n",
      "3  10000.0       2011           1        60.40                 4           23\n",
      "4  10000.0       2011           2        19.65                 1            4\n"
     ]
    }
   ],
   "source": [
    "query = \"\"\"\n",
    "     SELECT \n",
    "    card_no,                                  -- Owner's card number\n",
    "    EXTRACT(YEAR FROM datetime) AS sale_year, -- Extract the sale year\n",
    "    EXTRACT(MONTH FROM datetime) AS sale_month, -- Extract the sale month\n",
    "    ROUND(SUM(total), 2) AS total_sales,      -- Calculate total sales\n",
    "    COUNT(DISTINCT CONCAT(\n",
    "        CAST(EXTRACT(DATE FROM datetime) AS STRING),\n",
    "        CAST(register_no AS STRING),\n",
    "        CAST(emp_no AS STRING),\n",
    "        CAST(trans_no AS STRING)\n",
    "    )) AS num_transactions,                    -- Count distinct transactions\n",
    "    SUM(\n",
    "        CASE\n",
    "            WHEN trans_status IN ('V', 'R') THEN -1\n",
    "            ELSE 1\n",
    "        END\n",
    "    ) AS total_items                           -- Calculate total items accounting for returns/voids\n",
    "FROM `umt-msba.wedge_transactions.transArchive*` AS trans\n",
    "JOIN `umt-msba.wedge_transactions.department_lookup` AS depts\n",
    "    ON trans.department = depts.department\n",
    "WHERE trans.department NOT IN (0, 15)          -- Exclude departments 0 and 15\n",
    "  AND card_no != 3                             -- Exclude non-owner transactions\n",
    "  AND (trans_status IS NULL\n",
    "      OR trans_status IN ('V', 'R', '', ' '))  -- Include only the specified trans_status values\n",
    "GROUP BY card_no, sale_year, sale_month        -- Group by owner, year, and month\n",
    "ORDER BY card_no, sale_year, sale_month;       -- Order by owner, year, and month\n",
    "\"\"\"\n",
    "\n",
    "query_job_2 = client.query(query)\n",
    "\n",
    "df_2 = query_job_2.to_dataframe()\n",
    "\n",
    "print(df_2.head())\n"
   ]
  },
  {
   "cell_type": "markdown",
   "metadata": {},
   "source": [
    "## Table 3"
   ]
  },
  {
   "cell_type": "code",
   "execution_count": 21,
   "metadata": {},
   "outputs": [
    {
     "name": "stdout",
     "output_type": "stream",
     "text": [
      "  upc              description  department number   department name  year  \\\n",
      "0   0              BULK Coupon                3.0              BULK  2010   \n",
      "1   0              BULK Coupon                3.0              BULK  2010   \n",
      "2   0            FROZEN Coupon                6.0            FROZEN  2010   \n",
      "3   0  PACKAGED GROCERY Coupon                1.0  PACKAGED GROCERY  2010   \n",
      "4   0  PACKAGED GROCERY Coupon                1.0  PACKAGED GROCERY  2010   \n",
      "\n",
      "   month  sales  transactions  items  \n",
      "0      1   2.00             1     -1  \n",
      "1      2   1.00             1     -1  \n",
      "2      2   2.00             1     -1  \n",
      "3      1  14.48             2     -4  \n",
      "4      2  15.49             5     -5  \n"
     ]
    }
   ],
   "source": [
    "query = \"\"\"\n",
    "     SELECT DISTINCT upc\n",
    "    , description\n",
    "    , trans.department AS `department number`\n",
    "    , depts.dept_name AS `department name`\n",
    "    , EXTRACT(YEAR FROM datetime) AS year\n",
    "    , EXTRACT(MONTH FROM datetime) AS month\n",
    "    , ROUND(SUM(total), 2) as sales\n",
    "    , COUNT(DISTINCT CONCAT(\n",
    "        CAST(EXTRACT(DATE FROM datetime) AS STRING),\n",
    "        CAST(register_no AS STRING),\n",
    "        CAST(emp_no AS STRING),\n",
    "        CAST(trans_no AS STRING)\n",
    "        )) AS transactions\n",
    "    ,SUM(\n",
    "        CASE\n",
    "        WHEN trans_status IN ('V', 'R') THEN -1\n",
    "        ELSE 1\n",
    "    END\n",
    "    ) AS items\n",
    " \n",
    "    FROM `umt-msba.wedge_transactions.transArchive*` as trans\n",
    "    JOIN `umt-msba.wedge_transactions.department_lookup` as depts\n",
    "    ON trans.department = depts.department\n",
    "    WHERE trans.department NOT IN (0, 15)\n",
    "    AND card_no != 3\n",
    "    AND (trans_status IS NULL\n",
    "    OR trans_status IN ('V', 'R', '', ' '))\n",
    "    GROUP BY upc, description, `department number`, `department name`, year, month\n",
    "    ORDER BY upc, description, `department number`, `department name`, year, month;\n",
    "\"\"\"\n",
    "\n",
    "query_job_3 = client.query(query)\n",
    "\n",
    "df_3 = query_job_3.to_dataframe()\n",
    "\n",
    "print(df_3.head())\n"
   ]
  },
  {
   "cell_type": "code",
   "execution_count": 23,
   "metadata": {},
   "outputs": [
    {
     "name": "stdout",
     "output_type": "stream",
     "text": [
      "Inserted 'Sales by Date by Hour' table successfully.\n",
      "Inserted 'Sales by Owner by Year by Month' table successfully.\n",
      "Inserted 'Sales by Product Description by Year by Month' table successfully.\n"
     ]
    }
   ],
   "source": [
    "import sqlite3\n",
    "\n",
    "# Connect to the SQLite database (or create it if it doesn't exist)\n",
    "conn = sqlite3.connect('sales_summary.db')\n",
    "\n",
    "# 1. Insert 'Sales by Date by Hour' DataFrame into the database\n",
    "df_1.to_sql('sales_by_date_by_hour', conn, if_exists='replace', index=False)\n",
    "print(\"Inserted 'Sales by Date by Hour' table successfully.\")\n",
    "\n",
    "# 2. Insert 'Sales by Owner by Year by Month' DataFrame into the database\n",
    "df_2.to_sql('sales_by_owner_by_year_by_month', conn, if_exists='replace', index=False)\n",
    "print(\"Inserted 'Sales by Owner by Year by Month' table successfully.\")\n",
    "\n",
    "# 3. Insert 'Sales by Product Description by Year by Month' DataFrame into the database\n",
    "df_3.to_sql('sales_by_product_description_by_year_by_month', conn, if_exists='replace', index=False)\n",
    "print(\"Inserted 'Sales by Product Description by Year by Month' table successfully.\")\n",
    "\n",
    "# Commit and close the connection\n",
    "conn.commit()\n",
    "conn.close()\n"
   ]
  }
 ],
 "metadata": {
  "kernelspec": {
   "display_name": "base",
   "language": "python",
   "name": "python3"
  },
  "language_info": {
   "codemirror_mode": {
    "name": "ipython",
    "version": 3
   },
   "file_extension": ".py",
   "mimetype": "text/x-python",
   "name": "python",
   "nbconvert_exporter": "python",
   "pygments_lexer": "ipython3",
   "version": "3.11.4"
  },
  "orig_nbformat": 4
 },
 "nbformat": 4,
 "nbformat_minor": 2
}
