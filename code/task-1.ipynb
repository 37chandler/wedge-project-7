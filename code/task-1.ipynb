{
 "cells": [
  {
   "cell_type": "code",
   "execution_count": null,
   "metadata": {},
   "outputs": [],
   "source": [
    "from google.cloud import bigquery\n",
    "import pandas as pd\n",
    "import os\n",
    "from pandas_gbq import to_gbq\n"
   ]
  },
  {
   "cell_type": "code",
   "execution_count": null,
   "metadata": {},
   "outputs": [],
   "source": [
    "# Define your project and dataset details\n",
    "project_id = 'juliehilley'\n",
    "dataset_id = 'wedge_B'"
   ]
  },
  {
   "cell_type": "code",
   "execution_count": null,
   "metadata": {},
   "outputs": [],
   "source": [
    "client = bigquery.Client(project = project_id)\n",
    "# Extract the credentials from your BigQuery client\n",
    "credentials = client._credentials\n"
   ]
  },
  {
   "cell_type": "markdown",
   "metadata": {},
   "source": [
    "## Upload Plan\n",
    "\n",
    "1. Get all of the file names\n",
    "1. One at a time, read in each file\n",
    "1. Define table name\n",
    "1. Upload data\n"
   ]
  },
  {
   "cell_type": "code",
   "execution_count": null,
   "metadata": {},
   "outputs": [],
   "source": [
    "data_path = \"../data/clean-files/\"\n"
   ]
  },
  {
   "cell_type": "code",
   "execution_count": null,
   "metadata": {},
   "outputs": [],
   "source": [
    "clean_files = os.listdir(data_path)"
   ]
  },
  {
   "cell_type": "code",
   "execution_count": null,
   "metadata": {},
   "outputs": [],
   "source": [
    "for file_name in clean_files:\n",
    "    df = pd.read_csv(data_path + file_name)\n",
    "    \n",
    "    # Display the data types of each column\n",
    "    print(f\"Inspecting DataFrame for {file_name}:\")\n",
    "    print(df.dtypes)\n",
    "    \n",
    "    # Check for missing values\n",
    "    print(f\"Missing values in {file_name}:\")\n",
    "    print(df.isnull().sum())\n",
    "    \n",
    "    print(\"\\n-------------------------------------\\n\")\n",
    "\n",
    "    # Pause the loop after inspecting the first file to verify\n",
    "    break\n"
   ]
  },
  {
   "cell_type": "code",
   "execution_count": null,
   "metadata": {},
   "outputs": [],
   "source": [
    "# Get the unique values and their counts in 'memType'\n",
    "print(\"Unique values in 'memType' and their counts:\")\n",
    "print(df['memType'].value_counts(dropna=False))\n",
    "\n",
    "# Inspect the data types of the values in 'memType'\n",
    "print(\"\\nData types of the values in 'memType':\")\n",
    "print(df['memType'].apply(type).value_counts())\n"
   ]
  },
  {
   "cell_type": "code",
   "execution_count": null,
   "metadata": {},
   "outputs": [],
   "source": [
    "for file_name in clean_files:\n",
    "    df = pd.read_csv(data_path + file_name)\n",
    "    \n",
    "    # Drop unnecessary columns if they exist\n",
    "    columns_to_drop = ['charflag', 'display', 'receipt', 'numflag', 'Itemstatus', 'tenderstatus', 'volDiscType', 'volume', 'VolSpecial', 'mixMatch', 'matched', 'batchHeaderID', 'varflag', 'discountable', 'discounttype', 'percentDiscount', 'ItemQtty', 'staff']\n",
    "    df = df.drop(columns=[col for col in columns_to_drop if col in df.columns], errors='ignore')\n",
    "\n",
    "    # Replace NaN and empty strings with 'Unknown' in 'memType'\n",
    "    df['memType'] = df['memType'].fillna('Unknown').replace('', 'Unknown').astype(str)\n",
    "    \n",
    "    # Convert 'datetime' column to datetime type\n",
    "    df['datetime'] = pd.to_datetime(df['datetime'], errors='coerce')\n",
    "    \n",
    "    # Fill NaN values in numeric columns only if they exist\n",
    "    numeric_columns = ['taxexempt', 'itemstatus', 'tenderstatus', 'batchHeaderID']\n",
    "    for col in numeric_columns:\n",
    "        if col in df.columns:\n",
    "            df[col] = df[col].fillna(0)\n",
    "\n",
    "    # Proceed with uploading to BigQuery\n",
    "    table_name = file_name.replace(\"_clean.csv\", \"\")\n",
    "    full_table_name = f'{dataset_id}.{table_name}'\n",
    "    \n",
    "    # Upload to GBQ\n",
    "    to_gbq(df, full_table_name, project_id=project_id, credentials=credentials, if_exists='replace')\n"
   ]
  }
 ],
 "metadata": {
  "kernelspec": {
   "display_name": "base",
   "language": "python",
   "name": "python3"
  },
  "language_info": {
   "codemirror_mode": {
    "name": "ipython",
    "version": 3
   },
   "file_extension": ".py",
   "mimetype": "text/x-python",
   "name": "python",
   "nbconvert_exporter": "python",
   "pygments_lexer": "ipython3",
   "version": "3.11.4"
  },
  "orig_nbformat": 4
 },
 "nbformat": 4,
 "nbformat_minor": 2
}
